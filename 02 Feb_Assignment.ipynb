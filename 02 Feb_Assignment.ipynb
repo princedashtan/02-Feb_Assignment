{
 "cells": [
  {
   "cell_type": "code",
   "execution_count": 1,
   "id": "ae65ccf2-84ae-4d0e-87d6-7034aa30a323",
   "metadata": {},
   "outputs": [],
   "source": [
    "# Assignment Questions\n",
    "# Q1.  Explain with an example each when to use a for loop and a while loop. \n",
    "# Q2.  Write a python program to print the sum and product of the first 10 natural numbers using for  and while loop. \n",
    "# Q3. Create a python program to compute the electricity bill for a household. \n",
    "# The per-unit charges in rupees are as follows: For the first 100 units, the user will be charged Rs. 4.5 per  unit, for the next 100 units, the user will be charged Rs. 6 per unit, and for the next 100 units, the user will  be charged Rs. 10 per unit, After 300 units and above the user will be charged Rs. 20 per unit. \n",
    "# You are required to take the units of electricity consumed in a month from the user as input. \n",
    "# Your program must pass this test case: when the unit of electricity consumed by the user in a month is  310, the total electricity bill should be 2250. \n",
    "# Q4. Create a list of numbers from 1 to 100. Use for loop and while loop to calculate the cube of each  number and if the cube of that number is divisible by 4 or 5 then append that number in a list and print  that list. \n",
    "# Q5.  Write a program to filter count vowels in the below-given string. \n",
    "# string = \"I want to become a data scientist\" "
   ]
  },
  {
   "cell_type": "code",
   "execution_count": 2,
   "id": "8db11fca-cc55-4e52-8505-28ea0d824432",
   "metadata": {},
   "outputs": [],
   "source": [
    "# Ans 1"
   ]
  },
  {
   "cell_type": "code",
   "execution_count": 3,
   "id": "30fce9c3-27b1-488d-85ca-28d01c540c38",
   "metadata": {},
   "outputs": [],
   "source": [
    "# For loops and while loops are both used for iterating over a set of instructions or a collection of data. However, they have different use cases depending on the situation.\n",
    "# A for loop is ideal when you know the number of times you want to iterate through a block of code, and you want to loop through a sequence of values.\n",
    "# For example, if you want to iterate through a list of numbers and print each one, you can use a for loop:"
   ]
  },
  {
   "cell_type": "code",
   "execution_count": 4,
   "id": "112e63d8-9d9b-4eca-b1fd-42ac6d5049e9",
   "metadata": {},
   "outputs": [
    {
     "name": "stdout",
     "output_type": "stream",
     "text": [
      "1\n",
      "2\n",
      "3\n",
      "4\n",
      "5\n"
     ]
    }
   ],
   "source": [
    "numbers = [1, 2, 3, 4, 5]\n",
    "for num in numbers:\n",
    "    print(num)"
   ]
  },
  {
   "cell_type": "code",
   "execution_count": 5,
   "id": "570a4a06-68bd-46bd-8a41-fc12a549816f",
   "metadata": {},
   "outputs": [],
   "source": [
    "# A while loop, on the other hand, is useful when you want to keep looping while a certain condition is true, but you don't know ahead of time how many times you will need to loop.\n",
    "# For example, if you want to keep asking a user for input until they enter a specific value, you can use a while loop:"
   ]
  },
  {
   "cell_type": "code",
   "execution_count": 6,
   "id": "c1c96ff3-1652-427d-98bf-e674befea4d9",
   "metadata": {},
   "outputs": [
    {
     "name": "stdin",
     "output_type": "stream",
     "text": [
      "Enter a value (or 'quit' to exit):  prince\n"
     ]
    },
    {
     "name": "stdout",
     "output_type": "stream",
     "text": [
      "You entered: prince\n"
     ]
    },
    {
     "name": "stdin",
     "output_type": "stream",
     "text": [
      "Enter a value (or 'quit' to exit):  quit\n"
     ]
    },
    {
     "name": "stdout",
     "output_type": "stream",
     "text": [
      "You entered: quit\n"
     ]
    }
   ],
   "source": [
    "user_input = \"\"\n",
    "while user_input != \"quit\":\n",
    "    user_input = input(\"Enter a value (or 'quit' to exit): \")\n",
    "    print(\"You entered:\", user_input)"
   ]
  },
  {
   "cell_type": "code",
   "execution_count": 7,
   "id": "ff58668a-e3e5-443a-a4fb-360d55271689",
   "metadata": {},
   "outputs": [],
   "source": [
    "# Q2.  Write a python program to print the sum and product of the first 10 natural numbers using for  and while loop."
   ]
  },
  {
   "cell_type": "code",
   "execution_count": 8,
   "id": "8e908373-1fb5-4f3d-88bc-954b4094bb00",
   "metadata": {},
   "outputs": [],
   "source": [
    "# Ans2"
   ]
  },
  {
   "cell_type": "code",
   "execution_count": 9,
   "id": "4582f6d6-f94a-48f9-aeae-dbe6bed84f37",
   "metadata": {},
   "outputs": [
    {
     "name": "stdout",
     "output_type": "stream",
     "text": [
      "55\n"
     ]
    }
   ],
   "source": [
    "# sum of the first 10 natural numbers\n",
    "total=0\n",
    "for i in range(1,11):\n",
    "    total+=i\n",
    "print(total)"
   ]
  },
  {
   "cell_type": "code",
   "execution_count": null,
   "id": "8741081c-f128-4621-829e-1c23329bbf72",
   "metadata": {},
   "outputs": [],
   "source": [
    "# product of the first 10 natural numbers\n",
    "product=1\n",
    "for i in range(1,11):\n",
    "    total*=i\n",
    "print(product)"
   ]
  },
  {
   "cell_type": "code",
   "execution_count": null,
   "id": "600e8f2b-84c4-4f55-bb0d-86ac0a1e5fc7",
   "metadata": {},
   "outputs": [],
   "source": [
    "# using while loop\n",
    "# sum of the first 10 natural numbers"
   ]
  },
  {
   "cell_type": "code",
   "execution_count": null,
   "id": "871fa6a8-c279-4af8-a6fb-6bb62b0d1b16",
   "metadata": {},
   "outputs": [],
   "source": [
    "total=0\n",
    "i=1\n",
    "while i<=10:\n",
    "    total+=i\n",
    "    i+=1\n",
    "print(total)"
   ]
  },
  {
   "cell_type": "code",
   "execution_count": null,
   "id": "f5bea80a-96b4-4cbd-b31b-b076b4197ea0",
   "metadata": {},
   "outputs": [],
   "source": [
    "# product of the first 10 natural numbers"
   ]
  },
  {
   "cell_type": "code",
   "execution_count": null,
   "id": "e526819c-e633-485b-bf49-fa5be0f7397c",
   "metadata": {},
   "outputs": [],
   "source": [
    "product=1\n",
    "i=1\n",
    "while i<=10:\n",
    "    product*=i\n",
    "    i+=1\n",
    "print(product)"
   ]
  },
  {
   "cell_type": "code",
   "execution_count": null,
   "id": "a71ef908-6238-4636-be62-76dd9b38afba",
   "metadata": {},
   "outputs": [],
   "source": [
    "# Q3. Create a python program to compute the electricity bill for a household."
   ]
  },
  {
   "cell_type": "code",
   "execution_count": null,
   "id": "4fe767a1-2890-4d28-872c-161f46cacbc8",
   "metadata": {},
   "outputs": [],
   "source": [
    "# Ans 3"
   ]
  },
  {
   "cell_type": "code",
   "execution_count": null,
   "id": "3a4d5789-593c-4c53-baa0-fefa116d8819",
   "metadata": {},
   "outputs": [],
   "source": [
    "units = int(input(\"Enter number of units consumed: \"))\n",
    "\n",
    "# Compute electricity bill\n",
    "if units <= 100:\n",
    "    bill = units * 4.5\n",
    "elif units <= 200:\n",
    "    bill = 450 + (units - 100) * 6\n",
    "elif units <= 300:\n",
    "    bill = 1050 + (units - 200) * 10\n",
    "else:\n",
    "    bill = 3050 + (units - 300) * 20\n",
    "    \n",
    "print(\"Electricity bill for the household:\", bill)\n"
   ]
  },
  {
   "cell_type": "code",
   "execution_count": null,
   "id": "2d5637a1-9abd-4a46-8e8f-740b32b92119",
   "metadata": {},
   "outputs": [],
   "source": [
    "# Q4. Create a list of numbers from 1 to 100. Use for loop and while loop to calculate the cube of each  number and if the cube of that number is divisible by 4 or 5 then append that number in a list and print  that list. \n"
   ]
  },
  {
   "cell_type": "code",
   "execution_count": 1,
   "id": "7ed40646-ed95-4cd2-8ba7-7b4d3125b7f6",
   "metadata": {},
   "outputs": [],
   "source": [
    "# Ans4"
   ]
  },
  {
   "cell_type": "code",
   "execution_count": 2,
   "id": "861909f0-b111-43e5-9040-dec013a87ce4",
   "metadata": {},
   "outputs": [],
   "source": [
    "# Using for loop"
   ]
  },
  {
   "cell_type": "code",
   "execution_count": 3,
   "id": "935a0292-769c-45a8-b257-e14a8f99ef22",
   "metadata": {},
   "outputs": [
    {
     "name": "stdout",
     "output_type": "stream",
     "text": [
      "[2, 4, 5, 6, 8, 10, 12, 14, 15, 16, 18, 20, 22, 24, 25, 26, 28, 30, 32, 34, 35, 36, 38, 40, 42, 44, 45, 46, 48, 50, 52, 54, 55, 56, 58, 60, 62, 64, 65, 66, 68, 70, 72, 74, 75, 76, 78, 80, 82, 84, 85, 86, 88, 90, 92, 94, 95, 96, 98, 100]\n"
     ]
    }
   ],
   "source": [
    "cubes_divisible_by_4_or_5 = []\n",
    "for i in range(1, 101):\n",
    "    cube = i**3\n",
    "    if cube % 4 == 0 or cube % 5 == 0:\n",
    "        cubes_divisible_by_4_or_5.append(i)\n",
    "\n",
    "print(cubes_divisible_by_4_or_5)"
   ]
  },
  {
   "cell_type": "code",
   "execution_count": 4,
   "id": "4319353c-7c53-41ba-ae79-b8863e36d5c6",
   "metadata": {},
   "outputs": [],
   "source": [
    "# Using while loop"
   ]
  },
  {
   "cell_type": "code",
   "execution_count": 5,
   "id": "6d428567-c114-4b52-a7c1-d6c9b4c606a5",
   "metadata": {},
   "outputs": [
    {
     "name": "stdout",
     "output_type": "stream",
     "text": [
      "[2, 4, 5, 6, 8, 10, 12, 14, 15, 16, 18, 20, 22, 24, 25, 26, 28, 30, 32, 34, 35, 36, 38, 40, 42, 44, 45, 46, 48, 50, 52, 54, 55, 56, 58, 60, 62, 64, 65, 66, 68, 70, 72, 74, 75, 76, 78, 80, 82, 84, 85, 86, 88, 90, 92, 94, 95, 96, 98, 100]\n"
     ]
    }
   ],
   "source": [
    "cubes_divisible_by_4_or_5 = []\n",
    "i = 1\n",
    "while i <= 100:\n",
    "    cube = i**3\n",
    "    if cube % 4 == 0 or cube % 5 == 0:\n",
    "        cubes_divisible_by_4_or_5.append(i)\n",
    "    i += 1\n",
    "\n",
    "print(cubes_divisible_by_4_or_5)"
   ]
  },
  {
   "cell_type": "code",
   "execution_count": 6,
   "id": "96267e47-8f7c-4658-854e-e407f22610b7",
   "metadata": {},
   "outputs": [],
   "source": [
    "# Q5. Write a program to filter count vowels in the below-given string. \n",
    "# string = \"I want to become a data scientist\" "
   ]
  },
  {
   "cell_type": "code",
   "execution_count": 7,
   "id": "184cec5f-b94d-45e1-bc5c-84fa876afbf5",
   "metadata": {},
   "outputs": [],
   "source": [
    "# Ans5"
   ]
  },
  {
   "cell_type": "code",
   "execution_count": 9,
   "id": "62fbecef-6313-4d73-aa9f-a125217c579c",
   "metadata": {},
   "outputs": [
    {
     "name": "stdout",
     "output_type": "stream",
     "text": [
      "The number of vowels in the string is: 12\n"
     ]
    }
   ],
   "source": [
    "string = \"I want to become a data scientist\"\n",
    "vowels = 'aeiou'\n",
    "vowel_count = 0\n",
    "\n",
    "for char in string:\n",
    "    if char.lower() in vowels:\n",
    "        vowel_count += 1\n",
    "\n",
    "print(\"The number of vowels in the string is:\", vowel_count)"
   ]
  },
  {
   "cell_type": "code",
   "execution_count": null,
   "id": "76216a2b-34ed-4d26-a857-3f5fd3cbc409",
   "metadata": {},
   "outputs": [],
   "source": []
  },
  {
   "cell_type": "code",
   "execution_count": null,
   "id": "3416acea-2953-4844-80c5-a3697eb6750c",
   "metadata": {},
   "outputs": [],
   "source": []
  },
  {
   "cell_type": "code",
   "execution_count": null,
   "id": "4a17da7f-5bb8-44ad-a3e5-4f8519d3ec5a",
   "metadata": {},
   "outputs": [],
   "source": []
  }
 ],
 "metadata": {
  "kernelspec": {
   "display_name": "Python 3 (ipykernel)",
   "language": "python",
   "name": "python3"
  },
  "language_info": {
   "codemirror_mode": {
    "name": "ipython",
    "version": 3
   },
   "file_extension": ".py",
   "mimetype": "text/x-python",
   "name": "python",
   "nbconvert_exporter": "python",
   "pygments_lexer": "ipython3",
   "version": "3.10.6"
  }
 },
 "nbformat": 4,
 "nbformat_minor": 5
}
